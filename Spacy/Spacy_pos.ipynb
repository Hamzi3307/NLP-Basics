{
 "cells": [
  {
   "cell_type": "code",
   "execution_count": 1,
   "metadata": {},
   "outputs": [],
   "source": [
    "import spacy"
   ]
  },
  {
   "cell_type": "code",
   "execution_count": 3,
   "metadata": {},
   "outputs": [
    {
     "name": "stdout",
     "output_type": "stream",
     "text": [
      "Elon | PROPN | proper noun\n",
      "flew | VERB | verb\n",
      "to | ADP | adposition\n",
      "mars | NOUN | noun\n",
      "yesterday | NOUN | noun\n",
      ". | PUNCT | punctuation\n",
      "He | PRON | pronoun\n",
      "carried | VERB | verb\n",
      "biryani | ADJ | adjective\n",
      "masala | NOUN | noun\n",
      "with | ADP | adposition\n",
      "him | PRON | pronoun\n"
     ]
    }
   ],
   "source": [
    "nlp = spacy.load(\"en_core_web_sm\")\n",
    "doc = nlp(\"Elon flew to mars yesterday. He carried biryani masala with him\")\n",
    "\n",
    "for token in doc:\n",
    "    print(f'{token} | {token.pos_} | {spacy.explain(token.pos_)}')"
   ]
  },
  {
   "cell_type": "code",
   "execution_count": 4,
   "metadata": {},
   "outputs": [
    {
     "name": "stdout",
     "output_type": "stream",
     "text": [
      "Wow  |  INTJ  |  interjection\n",
      "!  |  PUNCT  |  punctuation\n",
      "Dr.  |  PROPN  |  proper noun\n",
      "Strange  |  PROPN  |  proper noun\n",
      "made  |  VERB  |  verb\n",
      "265  |  NUM  |  numeral\n",
      "million  |  NUM  |  numeral\n",
      "$  |  NUM  |  numeral\n",
      "on  |  ADP  |  adposition\n",
      "the  |  DET  |  determiner\n",
      "very  |  ADV  |  adverb\n",
      "first  |  ADJ  |  adjective\n",
      "day  |  NOUN  |  noun\n"
     ]
    }
   ],
   "source": [
    "doc = nlp(\"Wow! Dr. Strange made 265 million $ on the very first day\")\n",
    "\n",
    "for token in doc:\n",
    "    print(token,\" | \", token.pos_, \" | \", spacy.explain(token.pos_))"
   ]
  },
  {
   "cell_type": "markdown",
   "metadata": {},
   "source": [
    "TAGS"
   ]
  },
  {
   "cell_type": "code",
   "execution_count": 7,
   "metadata": {},
   "outputs": [
    {
     "name": "stdout",
     "output_type": "stream",
     "text": [
      "Wow | INTJ | interjection | UH | interjection\n",
      "! | PUNCT | punctuation | . | punctuation mark, sentence closer\n",
      "Dr. | PROPN | proper noun | NNP | noun, proper singular\n",
      "Strange | PROPN | proper noun | NNP | noun, proper singular\n",
      "made | VERB | verb | VBD | verb, past tense\n",
      "265 | NUM | numeral | CD | cardinal number\n",
      "million | NUM | numeral | CD | cardinal number\n",
      "$ | NUM | numeral | CD | cardinal number\n",
      "on | ADP | adposition | IN | conjunction, subordinating or preposition\n",
      "the | DET | determiner | DT | determiner\n",
      "very | ADV | adverb | RB | adverb\n",
      "first | ADJ | adjective | JJ | adjective (English), other noun-modifier (Chinese)\n",
      "day | NOUN | noun | NN | noun, singular or mass\n"
     ]
    }
   ],
   "source": [
    "doc = nlp(\"Wow! Dr. Strange made 265 million $ on the very first day\")\n",
    "\n",
    "for token in doc:\n",
    "    print(f\"{token} | {token.pos_} | {spacy.explain(token.pos_)} | {token.tag_} | {spacy.explain(token.tag_)}\")"
   ]
  },
  {
   "cell_type": "markdown",
   "metadata": {},
   "source": [
    "In below sentences Spacy figures out the past vs present tense for quit"
   ]
  },
  {
   "cell_type": "code",
   "execution_count": 12,
   "metadata": {},
   "outputs": [
    {
     "name": "stdout",
     "output_type": "stream",
     "text": [
      "quits | VERB | VBZ | verb, 3rd person singular present\n"
     ]
    }
   ],
   "source": [
    "doc = nlp(\"he quits the job\")\n",
    "print(f\"{doc[1].text} | {doc[1].pos_} | {doc[1].tag_} | {spacy.explain(doc[1].tag_)}\")"
   ]
  },
  {
   "cell_type": "code",
   "execution_count": 13,
   "metadata": {},
   "outputs": [
    {
     "name": "stdout",
     "output_type": "stream",
     "text": [
      "quit | VERB | VBD | verb, past tense\n"
     ]
    }
   ],
   "source": [
    "doc = nlp(\"he quit the job\")\n",
    "print(f\"{doc[1].text} | {doc[1].pos_} | {doc[1].tag_} | {spacy.explain(doc[1].tag_)}\")"
   ]
  },
  {
   "cell_type": "code",
   "execution_count": 23,
   "metadata": {},
   "outputs": [
    {
     "name": "stdout",
     "output_type": "stream",
     "text": [
      "Microsoft  |  PROPN\n",
      "Corp.  |  PROPN\n",
      "today  |  NOUN\n",
      "announced  |  VERB\n",
      "the  |  DET\n",
      "following  |  VERB\n",
      "results  |  NOUN\n",
      "for  |  ADP\n",
      "the  |  DET\n",
      "quarter  |  NOUN\n",
      "ended  |  VERB\n",
      "December  |  PROPN\n",
      "31  |  NUM\n",
      ",  |  PUNCT\n",
      "2021  |  NUM\n",
      ",  |  PUNCT\n",
      "as  |  SCONJ\n",
      "compared  |  VERB\n",
      "to  |  ADP\n",
      "the  |  DET\n",
      "corresponding  |  ADJ\n",
      "period  |  NOUN\n",
      "of  |  ADP\n",
      "last  |  ADJ\n",
      "fiscal  |  ADJ\n",
      "year  |  NOUN\n",
      ":  |  PUNCT\n",
      "\n",
      "\n",
      "  |  SPACE\n",
      "·  |  PUNCT\n",
      "          |  SPACE\n",
      "Revenue  |  NOUN\n",
      "was  |  AUX\n",
      "$  |  SYM\n",
      "51.7  |  NUM\n",
      "billion  |  NUM\n",
      "and  |  CCONJ\n",
      "increased  |  VERB\n",
      "20  |  NUM\n",
      "%  |  NOUN\n",
      "\n",
      "  |  SPACE\n",
      "·  |  PUNCT\n",
      "          |  SPACE\n",
      "Operating  |  VERB\n",
      "income  |  NOUN\n",
      "was  |  AUX\n",
      "$  |  SYM\n",
      "22.2  |  NUM\n",
      "billion  |  NUM\n",
      "and  |  CCONJ\n",
      "increased  |  VERB\n",
      "24  |  NUM\n",
      "%  |  NOUN\n",
      "\n",
      "  |  SPACE\n",
      "·  |  PUNCT\n",
      "          |  SPACE\n",
      "Net  |  ADJ\n",
      "income  |  NOUN\n",
      "was  |  AUX\n",
      "$  |  SYM\n",
      "18.8  |  NUM\n",
      "billion  |  NUM\n",
      "and  |  CCONJ\n",
      "increased  |  VERB\n",
      "21  |  NUM\n",
      "%  |  NOUN\n",
      "\n",
      "  |  SPACE\n",
      "·  |  PUNCT\n",
      "          |  SPACE\n",
      "Diluted  |  VERB\n",
      "earnings  |  NOUN\n",
      "per  |  ADP\n",
      "share  |  NOUN\n",
      "was  |  AUX\n",
      "$  |  SYM\n",
      "2.48  |  NUM\n",
      "and  |  CCONJ\n",
      "increased  |  VERB\n",
      "22  |  NUM\n",
      "%  |  NOUN\n",
      "\n",
      "  |  SPACE\n",
      "“  |  PUNCT\n",
      "Digital  |  PROPN\n",
      "technology  |  NOUN\n",
      "is  |  AUX\n",
      "the  |  DET\n",
      "most  |  ADV\n",
      "malleable  |  ADJ\n",
      "resource  |  NOUN\n",
      "at  |  ADP\n",
      "the  |  DET\n",
      "world  |  NOUN\n",
      "’s  |  PART\n",
      "disposal  |  NOUN\n",
      "to  |  PART\n",
      "overcome  |  VERB\n",
      "constraints  |  NOUN\n",
      "and  |  CCONJ\n",
      "reimagine  |  VERB\n",
      "everyday  |  ADJ\n",
      "work  |  NOUN\n",
      "and  |  CCONJ\n",
      "life  |  NOUN\n",
      ",  |  PUNCT\n",
      "”  |  PUNCT\n",
      "said  |  VERB\n",
      "Satya  |  PROPN\n",
      "Nadella  |  PROPN\n",
      ",  |  PUNCT\n",
      "chairman  |  NOUN\n",
      "and  |  CCONJ\n",
      "chief  |  ADJ\n",
      "executive  |  ADJ\n",
      "officer  |  NOUN\n",
      "of  |  ADP\n",
      "Microsoft  |  PROPN\n",
      ".  |  PUNCT\n",
      "“  |  PUNCT\n",
      "As  |  ADV\n",
      "tech  |  NOUN\n",
      "as  |  ADP\n",
      "a  |  DET\n",
      "percentage  |  NOUN\n",
      "of  |  ADP\n",
      "global  |  ADJ\n",
      "GDP  |  PROPN\n",
      "continues  |  VERB\n",
      "to  |  PART\n",
      "increase  |  VERB\n",
      ",  |  PUNCT\n",
      "we  |  PRON\n",
      "are  |  AUX\n",
      "innovating  |  VERB\n",
      "and  |  CCONJ\n",
      "investing  |  VERB\n",
      "across  |  ADP\n",
      "diverse  |  ADJ\n",
      "and  |  CCONJ\n",
      "growing  |  VERB\n",
      "markets  |  NOUN\n",
      ",  |  PUNCT\n",
      "with  |  ADP\n",
      "a  |  DET\n",
      "common  |  ADJ\n",
      "underlying  |  VERB\n",
      "technology  |  NOUN\n",
      "stack  |  NOUN\n",
      "and  |  CCONJ\n",
      "an  |  DET\n",
      "operating  |  NOUN\n",
      "model  |  NOUN\n",
      "that  |  PRON\n",
      "reinforces  |  VERB\n",
      "a  |  DET\n",
      "common  |  ADJ\n",
      "strategy  |  NOUN\n",
      ",  |  PUNCT\n",
      "culture  |  NOUN\n",
      ",  |  PUNCT\n",
      "and  |  CCONJ\n",
      "sense  |  NOUN\n",
      "of  |  ADP\n",
      "purpose  |  NOUN\n",
      ".  |  PUNCT\n",
      "”  |  PUNCT\n",
      "\n",
      "  |  SPACE\n",
      "“  |  PUNCT\n",
      "Solid  |  ADJ\n",
      "commercial  |  ADJ\n",
      "execution  |  NOUN\n",
      ",  |  PUNCT\n",
      "represented  |  VERB\n",
      "by  |  ADP\n",
      "strong  |  ADJ\n",
      "bookings  |  NOUN\n",
      "growth  |  NOUN\n",
      "driven  |  VERB\n",
      "by  |  ADP\n",
      "long  |  ADJ\n",
      "-  |  PUNCT\n",
      "term  |  NOUN\n",
      "Azure  |  ADJ\n",
      "commitments  |  NOUN\n",
      ",  |  PUNCT\n",
      "increased  |  VERB\n",
      "Microsoft  |  PROPN\n",
      "Cloud  |  PROPN\n",
      "revenue  |  NOUN\n",
      "to  |  ADP\n",
      "$  |  SYM\n",
      "22.1  |  NUM\n",
      "billion  |  NUM\n",
      ",  |  PUNCT\n",
      "up  |  ADV\n",
      "32  |  NUM\n",
      "%  |  NOUN\n",
      "year  |  NOUN\n",
      "over  |  ADP\n",
      "year  |  NOUN\n",
      "”  |  PUNCT\n",
      "said  |  VERB\n",
      "Amy  |  PROPN\n",
      "Hood  |  PROPN\n",
      ",  |  PUNCT\n",
      "executive  |  ADJ\n",
      "vice  |  NOUN\n",
      "president  |  NOUN\n",
      "and  |  CCONJ\n",
      "chief  |  ADJ\n",
      "financial  |  ADJ\n",
      "officer  |  NOUN\n",
      "of  |  ADP\n",
      "Microsoft  |  PROPN\n",
      "etc  |  X\n",
      ".  |  PUNCT\n"
     ]
    }
   ],
   "source": [
    "earnings_text=\"\"\"Microsoft Corp. today announced the following results for the quarter ended December 31, 2021, as compared to the corresponding period of last fiscal year:\n",
    "\n",
    "·         Revenue was $51.7 billion and increased 20%\n",
    "·         Operating income was $22.2 billion and increased 24%\n",
    "·         Net income was $18.8 billion and increased 21%\n",
    "·         Diluted earnings per share was $2.48 and increased 22%\n",
    "“Digital technology is the most malleable resource at the world’s disposal to overcome constraints and reimagine everyday work and life,” said Satya Nadella, chairman and chief executive officer of Microsoft. “As tech as a percentage of global GDP continues to increase, we are innovating and investing across diverse and growing markets, with a common underlying technology stack and an operating model that reinforces a common strategy, culture, and sense of purpose.”\n",
    "“Solid commercial execution, represented by strong bookings growth driven by long-term Azure commitments, increased Microsoft Cloud revenue to $22.1 billion, up 32% year over year” said Amy Hood, executive vice president and chief financial officer of Microsoft etc.\"\"\"\n",
    "\n",
    "doc = nlp(earnings_text)\n",
    "for token in doc:\n",
    "    print(token, \" | \", token.pos_)"
   ]
  },
  {
   "cell_type": "code",
   "execution_count": 24,
   "metadata": {},
   "outputs": [
    {
     "name": "stdout",
     "output_type": "stream",
     "text": [
      ",  |  PUNCT\n",
      ",  |  PUNCT\n",
      ":  |  PUNCT\n",
      "\n",
      "\n",
      "  |  SPACE\n",
      "·  |  PUNCT\n",
      "          |  SPACE\n",
      "\n",
      "  |  SPACE\n",
      "·  |  PUNCT\n",
      "          |  SPACE\n",
      "\n",
      "  |  SPACE\n",
      "·  |  PUNCT\n",
      "          |  SPACE\n",
      "\n",
      "  |  SPACE\n",
      "·  |  PUNCT\n",
      "          |  SPACE\n",
      "\n",
      "  |  SPACE\n",
      "“  |  PUNCT\n",
      ",  |  PUNCT\n",
      "”  |  PUNCT\n",
      ",  |  PUNCT\n",
      ".  |  PUNCT\n",
      "“  |  PUNCT\n",
      ",  |  PUNCT\n",
      ",  |  PUNCT\n",
      ",  |  PUNCT\n",
      ",  |  PUNCT\n",
      ".  |  PUNCT\n",
      "”  |  PUNCT\n",
      "\n",
      "  |  SPACE\n",
      "“  |  PUNCT\n",
      ",  |  PUNCT\n",
      "-  |  PUNCT\n",
      ",  |  PUNCT\n",
      ",  |  PUNCT\n",
      "”  |  PUNCT\n",
      ",  |  PUNCT\n",
      "etc  |  X\n",
      ".  |  PUNCT\n"
     ]
    }
   ],
   "source": [
    "for token in doc:\n",
    "    if token.pos_ in [\"SPACE\", \"X\",\"PUNCT\"]:\n",
    "        print(token, \" | \", token.pos_)"
   ]
  },
  {
   "cell_type": "code",
   "execution_count": 27,
   "metadata": {},
   "outputs": [
    {
     "data": {
      "text/plain": [
       "[Microsoft,\n",
       " Corp.,\n",
       " today,\n",
       " announced,\n",
       " the,\n",
       " following,\n",
       " results,\n",
       " for,\n",
       " the,\n",
       " quarter,\n",
       " ended,\n",
       " December,\n",
       " 31,\n",
       " 2021,\n",
       " as,\n",
       " compared,\n",
       " to,\n",
       " the,\n",
       " corresponding,\n",
       " period,\n",
       " of,\n",
       " last,\n",
       " fiscal,\n",
       " year,\n",
       " Revenue,\n",
       " was,\n",
       " $,\n",
       " 51.7,\n",
       " billion,\n",
       " and,\n",
       " increased,\n",
       " 20,\n",
       " %,\n",
       " Operating,\n",
       " income,\n",
       " was,\n",
       " $,\n",
       " 22.2,\n",
       " billion,\n",
       " and,\n",
       " increased,\n",
       " 24,\n",
       " %,\n",
       " Net,\n",
       " income,\n",
       " was,\n",
       " $,\n",
       " 18.8,\n",
       " billion,\n",
       " and,\n",
       " increased,\n",
       " 21,\n",
       " %,\n",
       " Diluted,\n",
       " earnings,\n",
       " per,\n",
       " share,\n",
       " was,\n",
       " $,\n",
       " 2.48,\n",
       " and,\n",
       " increased,\n",
       " 22,\n",
       " %,\n",
       " Digital,\n",
       " technology,\n",
       " is,\n",
       " the,\n",
       " most,\n",
       " malleable,\n",
       " resource,\n",
       " at,\n",
       " the,\n",
       " world,\n",
       " ’s,\n",
       " disposal,\n",
       " to,\n",
       " overcome,\n",
       " constraints,\n",
       " and,\n",
       " reimagine,\n",
       " everyday,\n",
       " work,\n",
       " and,\n",
       " life,\n",
       " said,\n",
       " Satya,\n",
       " Nadella,\n",
       " chairman,\n",
       " and,\n",
       " chief,\n",
       " executive,\n",
       " officer,\n",
       " of,\n",
       " Microsoft,\n",
       " As,\n",
       " tech,\n",
       " as,\n",
       " a,\n",
       " percentage,\n",
       " of,\n",
       " global,\n",
       " GDP,\n",
       " continues,\n",
       " to,\n",
       " increase,\n",
       " we,\n",
       " are,\n",
       " innovating,\n",
       " and,\n",
       " investing,\n",
       " across,\n",
       " diverse,\n",
       " and,\n",
       " growing,\n",
       " markets,\n",
       " with,\n",
       " a,\n",
       " common,\n",
       " underlying,\n",
       " technology,\n",
       " stack,\n",
       " and,\n",
       " an,\n",
       " operating,\n",
       " model,\n",
       " that,\n",
       " reinforces,\n",
       " a,\n",
       " common,\n",
       " strategy,\n",
       " culture,\n",
       " and,\n",
       " sense,\n",
       " of,\n",
       " purpose,\n",
       " Solid,\n",
       " commercial,\n",
       " execution,\n",
       " represented,\n",
       " by,\n",
       " strong,\n",
       " bookings,\n",
       " growth,\n",
       " driven,\n",
       " by,\n",
       " long,\n",
       " term,\n",
       " Azure,\n",
       " commitments,\n",
       " increased,\n",
       " Microsoft,\n",
       " Cloud,\n",
       " revenue,\n",
       " to,\n",
       " $,\n",
       " 22.1,\n",
       " billion,\n",
       " up,\n",
       " 32,\n",
       " %,\n",
       " year,\n",
       " over,\n",
       " year,\n",
       " said,\n",
       " Amy,\n",
       " Hood,\n",
       " executive,\n",
       " vice,\n",
       " president,\n",
       " and,\n",
       " chief,\n",
       " financial,\n",
       " officer,\n",
       " of,\n",
       " Microsoft]"
      ]
     },
     "execution_count": 27,
     "metadata": {},
     "output_type": "execute_result"
    }
   ],
   "source": [
    "filtered_tokens = []\n",
    "for token in doc:\n",
    "    if token.pos_ not in [\"SPACE\",\"X\", \"PUNCT\"]:\n",
    "        filtered_tokens.append(token)\n",
    "filtered_tokens[:]\n",
    "    "
   ]
  },
  {
   "cell_type": "markdown",
   "metadata": {},
   "source": [
    "COUNTING WORDS BY POS"
   ]
  },
  {
   "cell_type": "code",
   "execution_count": 29,
   "metadata": {},
   "outputs": [
    {
     "data": {
      "text/plain": [
       "{96: 13,\n",
       " 92: 46,\n",
       " 100: 24,\n",
       " 90: 9,\n",
       " 85: 16,\n",
       " 93: 16,\n",
       " 97: 27,\n",
       " 98: 1,\n",
       " 84: 20,\n",
       " 103: 10,\n",
       " 87: 6,\n",
       " 99: 5,\n",
       " 89: 12,\n",
       " 86: 3,\n",
       " 94: 3,\n",
       " 95: 2,\n",
       " 101: 1}"
      ]
     },
     "execution_count": 29,
     "metadata": {},
     "output_type": "execute_result"
    }
   ],
   "source": [
    "counts = doc.count_by(spacy.attrs.POS)\n",
    "counts"
   ]
  },
  {
   "cell_type": "code",
   "execution_count": 32,
   "metadata": {},
   "outputs": [
    {
     "data": {
      "text/plain": [
       "'PROPN'"
      ]
     },
     "execution_count": 32,
     "metadata": {},
     "output_type": "execute_result"
    }
   ],
   "source": [
    "doc.vocab[96].text"
   ]
  },
  {
   "cell_type": "code",
   "execution_count": 37,
   "metadata": {},
   "outputs": [
    {
     "data": {
      "text/plain": [
       "(dict, dict_items)"
      ]
     },
     "execution_count": 37,
     "metadata": {},
     "output_type": "execute_result"
    }
   ],
   "source": [
    "type(counts),type(counts.items())"
   ]
  },
  {
   "cell_type": "code",
   "execution_count": 35,
   "metadata": {},
   "outputs": [
    {
     "name": "stdout",
     "output_type": "stream",
     "text": [
      "PROPN  |  13\n",
      "NOUN  |  46\n",
      "VERB  |  24\n",
      "DET  |  9\n",
      "ADP  |  16\n",
      "NUM  |  16\n",
      "PUNCT  |  27\n",
      "SCONJ  |  1\n",
      "ADJ  |  20\n",
      "SPACE  |  10\n",
      "AUX  |  6\n",
      "SYM  |  5\n",
      "CCONJ  |  12\n",
      "ADV  |  3\n",
      "PART  |  3\n",
      "PRON  |  2\n",
      "X  |  1\n"
     ]
    }
   ],
   "source": [
    "for k,v in counts.items():\n",
    "    print(doc.vocab[k].text,\" | \", v)"
   ]
  },
  {
   "cell_type": "markdown",
   "metadata": {},
   "source": [
    "EXERCISE"
   ]
  },
  {
   "cell_type": "code",
   "execution_count": 38,
   "metadata": {},
   "outputs": [],
   "source": [
    "import spacy\n",
    "nlp = spacy.load(\"en_core_web_sm\")"
   ]
  },
  {
   "cell_type": "code",
   "execution_count": 42,
   "metadata": {},
   "outputs": [
    {
     "data": {
      "text/plain": [
       "'Inflation rose again in April, continuing a climb that has pushed consumers to the brink and is threatening the economic expansion, the Bureau of Labor Statistics reported Wednesday.\\n\\nThe consumer price index, a broad-based measure of prices for goods and services, increased 8.3% from a year ago, higher than the Dow Jones estimate for an 8.1% gain. That represented a slight ease from Marchâ€™s peak but was still close to the highest level since the summer of 1982.\\n\\nRemoving volatile food and ene'"
      ]
     },
     "execution_count": 42,
     "metadata": {},
     "output_type": "execute_result"
    }
   ],
   "source": [
    "with open('new_story.txt') as f:\n",
    "    text = f.read()\n",
    "text[:500]"
   ]
  },
  {
   "cell_type": "markdown",
   "metadata": {},
   "source": [
    "Extract all NOUN tokens from this story. You will have to read the file in python first to collect all the text and then extract NOUNs in a python list\n"
   ]
  },
  {
   "cell_type": "code",
   "execution_count": null,
   "metadata": {},
   "outputs": [],
   "source": [
    "doc = nlp(text)\n",
    "\n",
    "noun_tokens=[]\n",
    "numeral_tokens=[]\n",
    "\n",
    "for token in doc:\n",
    "    if token.pos_ == \"NOUN\":\n",
    "        noun_tokens.append(token)\n",
    "    elif token.pos_ == \"NUM\":\n",
    "        numeral_tokens.append(token)\n",
    "noun_tokens[:10]"
   ]
  },
  {
   "cell_type": "markdown",
   "metadata": {},
   "source": [
    "Extract all numbers (NUM POS type) in a python list"
   ]
  },
  {
   "cell_type": "code",
   "execution_count": 61,
   "metadata": {},
   "outputs": [
    {
     "data": {
      "text/plain": [
       "[8.3, 8.1, 1982, 6.2, 6, â€, 0.3, 0.2, 0.6, 0.4]"
      ]
     },
     "execution_count": 61,
     "metadata": {},
     "output_type": "execute_result"
    }
   ],
   "source": [
    "numeral_tokens[:10]"
   ]
  },
  {
   "cell_type": "markdown",
   "metadata": {},
   "source": [
    "Print a count of all POS tags in this story"
   ]
  },
  {
   "cell_type": "code",
   "execution_count": 62,
   "metadata": {},
   "outputs": [
    {
     "data": {
      "text/plain": [
       "{92: 98,\n",
       " 100: 27,\n",
       " 86: 15,\n",
       " 85: 39,\n",
       " 96: 17,\n",
       " 97: 32,\n",
       " 90: 34,\n",
       " 95: 4,\n",
       " 87: 13,\n",
       " 89: 10,\n",
       " 84: 23,\n",
       " 103: 7,\n",
       " 93: 20,\n",
       " 94: 4,\n",
       " 98: 8,\n",
       " 101: 1}"
      ]
     },
     "execution_count": 62,
     "metadata": {},
     "output_type": "execute_result"
    }
   ],
   "source": [
    "count_pos = doc.count_by(spacy.attrs.POS)\n",
    "count_pos"
   ]
  },
  {
   "cell_type": "code",
   "execution_count": 68,
   "metadata": {},
   "outputs": [
    {
     "name": "stdout",
     "output_type": "stream",
     "text": [
      "Vocab   ||  Number\n",
      "NOUN    ||    98\n",
      "VERB    ||    27\n",
      "ADV    ||    15\n",
      "ADP    ||    39\n",
      "PROPN    ||    17\n",
      "PUNCT    ||    32\n",
      "DET    ||    34\n",
      "PRON    ||    4\n",
      "AUX    ||    13\n",
      "CCONJ    ||    10\n",
      "ADJ    ||    23\n",
      "SPACE    ||    7\n",
      "NUM    ||    20\n",
      "PART    ||    4\n",
      "SCONJ    ||    8\n",
      "X    ||    1\n"
     ]
    }
   ],
   "source": [
    "print(\"Vocab   ||  Number\")\n",
    "for k,v in count_pos.items():\n",
    "    print(doc.vocab[k].text,\"   ||   \", v)"
   ]
  },
  {
   "cell_type": "code",
   "execution_count": null,
   "metadata": {},
   "outputs": [],
   "source": []
  }
 ],
 "metadata": {
  "kernelspec": {
   "display_name": "Python 3",
   "language": "python",
   "name": "python3"
  },
  "language_info": {
   "codemirror_mode": {
    "name": "ipython",
    "version": 3
   },
   "file_extension": ".py",
   "mimetype": "text/x-python",
   "name": "python",
   "nbconvert_exporter": "python",
   "pygments_lexer": "ipython3",
   "version": "3.11.5"
  },
  "orig_nbformat": 4
 },
 "nbformat": 4,
 "nbformat_minor": 2
}
